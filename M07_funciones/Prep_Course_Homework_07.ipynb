{
 "cells": [
  {
   "attachments": {},
   "cell_type": "markdown",
   "metadata": {},
   "source": [
    "## Funciones"
   ]
  },
  {
   "attachments": {},
   "cell_type": "markdown",
   "metadata": {},
   "source": [
    "1) Crear una función que reciba un número como parámetro y devuelva True si es primo y False si no lo es"
   ]
  },
  {
   "cell_type": "code",
   "execution_count": 2,
   "metadata": {},
   "outputs": [
    {
     "name": "stdout",
     "output_type": "stream",
     "text": [
      "True\n",
      "False\n"
     ]
    }
   ],
   "source": [
    "def funcion_primo(num):               #Defino la función con un parámetro para el número que se desea estudiar.\n",
    "    condicion_primo = True            #Esta será la variable que almacene la condición de primo.\n",
    "    for i in range (2,num):           #Itero un rango desde 2 hasta el num-1 (num se ingresó como parámetro de la función).\n",
    "        if num % i == 0:              #Si la división de num por cualquier número del rango da 0 como resto.\n",
    "            condicion_primo = False   #Entonces la condición_primo cambia a False.\n",
    "            break                     #Se corta el bucle porque no hace falta seguir.\n",
    "        \n",
    "    return condicion_primo            #La función devuelve la condicion_primo según corresponda.\n",
    "\n",
    "print(funcion_primo(5))               #Pruebo que funcione correctamente.\n",
    "print(funcion_primo(10))"
   ]
  },
  {
   "attachments": {},
   "cell_type": "markdown",
   "metadata": {},
   "source": [
    "2) Utilizando la función del punto 1, realizar otra función que reciba de parámetro una lista de números y devuelva sólo aquellos que son primos en otra lista"
   ]
  },
  {
   "cell_type": "code",
   "execution_count": 3,
   "metadata": {},
   "outputs": [
    {
     "data": {
      "text/plain": [
       "[1, 2, 3, 23, 59, 761]"
      ]
     },
     "execution_count": 3,
     "metadata": {},
     "output_type": "execute_result"
    }
   ],
   "source": [
    "def extraer_primos(lista):                      #Defino mi nueva función con un parámetro.\n",
    "    lista_de_primos = []                        #Esta es la lista donde se almacenarán los números primos.\n",
    "    for numero in lista:                        #Itero sobre los números de la lista con mi función anterior.\n",
    "        if funcion_primo(int(numero)) == True:  #Si la condición de primo es True...           \n",
    "            lista_de_primos.append(numero)      #Se agrega el número a la lista_de_primos.\n",
    "    return lista_de_primos                      #La nueva función devuelve la lista_de_primos.\n",
    "\n",
    "extraer_primos([1,2,3,4,23,59,87,99,256,761])"
   ]
  },
  {
   "attachments": {},
   "cell_type": "markdown",
   "metadata": {},
   "source": [
    "3) Crear una función que al recibir una lista de números, devuelva el que más se repite y cuántas veces lo hace. Si hay más de un \"más repetido\", que devuelva cualquiera"
   ]
  },
  {
   "cell_type": "code",
   "execution_count": 5,
   "metadata": {},
   "outputs": [
    {
     "name": "stdout",
     "output_type": "stream",
     "text": [
      "El máximo de repeticiones es 4 y corresponde a 1\n"
     ]
    },
    {
     "data": {
      "text/plain": [
       "(4, 1)"
      ]
     },
     "execution_count": 5,
     "metadata": {},
     "output_type": "execute_result"
    }
   ],
   "source": [
    "def lista_de_numeros(l1):                           #Defino la función con un parámetro l1.\n",
    "    max_repeticiones = 0                            #Defino también dos variables. Una para almacenar el máximo de repeticiones \n",
    "    num_max_repeticiones = 0                        #Y otra para almacenar el número correspondiente a esas repeticiones.\n",
    "    for elemento in l1:                             #Itero sobre cada elemento de l1.\n",
    "        if l1.count(elemento) > max_repeticiones:   #Si la cuenta de repeticiones de un elemento es mayor que el número almacenado\n",
    "            max_repeticiones = l1.count(elemento)   #en la variable max_repeticiones, entonces se reemplaza. \n",
    "            num_max_repeticiones = elemento         #Y el número correspondiente se guarda en num_max_repeticones.\n",
    "    print('El máximo de repeticiones es', max_repeticiones, 'y corresponde a', num_max_repeticiones)\n",
    "    return max_repeticiones, num_max_repeticiones   #La función devuelve los valores por si se necesita guardarlos para su uso posterior.\n",
    "    \n",
    "\n",
    "lista_de_numeros([1,1,1,1,2,2,3,4,5,6,7,7,7])"
   ]
  },
  {
   "attachments": {},
   "cell_type": "markdown",
   "metadata": {},
   "source": [
    "4) Crear una función que convierta entre grados Celsius, Farenheit y Kelvin<br>\n",
    "Fórmula 1\t: (°C × 9/5) + 32 = °F<br>\n",
    "Fórmula 2\t: °C + 273.15 = °K<br>\n",
    "Debe recibir 3 parámetros: el valor, la medida de orígen y la medida de destino\n"
   ]
  },
  {
   "cell_type": "code",
   "execution_count": 9,
   "metadata": {},
   "outputs": [],
   "source": [
    "def convertir_temp(valor, unidad_origen, unidad_destino):\n",
    "# Defino la función con 3 parámetros obligatorios a recibir: \n",
    "# valor que representa el número a convertir.\n",
    "# unidad_origen que puede ser cualquiera de las tres (C, F o K)\n",
    "# unidad_destino que también será cualquiera de las tres (C, F o K)\n",
    "    \n",
    "    if unidad_origen == \"C\": \n",
    "        if unidad_destino == \"C\":\n",
    "            valor_convertido = valor                                #Si la unidad de origen y destino es la misma, no se realiza ninguna conversión.\n",
    "        elif unidad_destino == \"F\":\n",
    "            valor_convertido = (valor * 5/9) + 32                   #Conversión de Celsius a Farenheit.\n",
    "        elif unidad_destino == \"K\":\n",
    "            valor_convertido = valor + 273.15                       #Conversión de Celsius a Kelvin.\n",
    "        else:\n",
    "            print(\"El parámetro de unidad de destino es incorrecto. Pruebe con K, F o C\")       #Mensaje en caso de que el parámetro de destino no sea correcto.\n",
    "\n",
    "\n",
    "    elif unidad_origen == \"F\":\n",
    "        if unidad_destino == \"C\":\n",
    "            valor_convertido = (valor -32) * 5/9                    #Conversión Farenheit a Celcius. \n",
    "        elif unidad_destino == \"F\":\n",
    "            valor_convertido = valor                                #Si la unidad de origen y destino es la misma, no se realiza ninguna conversión.\n",
    "        elif unidad_destino == \"K\":\n",
    "            valor_convertido = ((valor - 32) * 5/9 + 273.15)        #Conversión de Farenheit a Kelvin.\n",
    "        else:\n",
    "            print(\"El parámetro de unidad de destino es incorrecto. Pruebe con K, F o C\")       #Mensaje en caso de que el parámetro de destino no sea correcto.\n",
    "    \n",
    "    elif unidad_origen == \"K\":                                      \n",
    "        if unidad_destino == \"C\":                                   #Conversión de Kelvin a Celsius.\n",
    "            valor_convertido = valor - 273.15\n",
    "        elif unidad_destino == \"F\":                                 #Conversion de Kelvin a Farenheit.\n",
    "            valor_convertido = ((valor - 273.15) * 9/5 + 32)        \n",
    "        elif unidad_destino == \"K\":                                 #Si la unidad de origen y destino es la misma, no se realiza ninguna conversión. \n",
    "            valor_convertido = valor                                \n",
    "        else:\n",
    "            print(\"El parámetro de unidad de destino es incorrecto. Pruebe con K, F o C\")       #Mensaje en caso de que el parámetro de destino no sea correcto.\n",
    "    \n",
    "    else: \n",
    "        print(\"No se reconoce el parámetro de origen. Pruebe con K, F o C\")                     # Mensaje en caso de que el parámetro de origen no sea correcto.\n",
    "    \n",
    "    return valor_convertido    #La función devuelve el valor convertido."
   ]
  },
  {
   "cell_type": "code",
   "execution_count": 8,
   "metadata": {},
   "outputs": [
    {
     "name": "stdout",
     "output_type": "stream",
     "text": [
      "1 grado C a C: 1\n",
      "1 grado C a K: 274.15\n",
      "1 grado C a F: 32.55555555555556\n",
      "1 grado K a C: -272.15\n",
      "1 grado K a K: 1\n",
      "1 grado K a F: -457.87\n",
      "1 grado F a C: -17.22222222222222\n",
      "1 grado F a K: 255.92777777777775\n",
      "1 grado F a F: 1\n"
     ]
    }
   ],
   "source": [
    "print('1 grado C a C:', convertir_temp (1, 'C', 'C'))\n",
    "print('1 grado C a K:', convertir_temp (1, 'C', 'K'))\n",
    "print('1 grado C a F:', convertir_temp (1, 'C', 'F'))\n",
    "print('1 grado K a C:', convertir_temp (1, 'K', 'C'))\n",
    "print('1 grado K a K:', convertir_temp (1, 'K', 'K'))\n",
    "print('1 grado K a F:', convertir_temp (1, 'K', 'F'))\n",
    "print('1 grado F a C:', convertir_temp (1, 'F', 'C'))\n",
    "print('1 grado F a K:', convertir_temp (1, 'F', 'K'))\n",
    "print('1 grado F a F:', convertir_temp (1, 'F', 'F'))"
   ]
  },
  {
   "attachments": {},
   "cell_type": "markdown",
   "metadata": {},
   "source": [
    "5) Iterando una lista con los tres valores posibles de temperatura que recibe la función del punto 5, hacer un print para cada combinación de los mismos:"
   ]
  },
  {
   "cell_type": "code",
   "execution_count": 11,
   "metadata": {},
   "outputs": [
    {
     "name": "stdout",
     "output_type": "stream",
     "text": [
      "1 grado C a C : 1\n",
      "1 grado C a F : 32.55555555555556\n",
      "1 grado C a K : 274.15\n",
      "1 grado F a C : -17.22222222222222\n",
      "1 grado F a F : 1\n",
      "1 grado F a K : 255.92777777777775\n",
      "1 grado K a C : -272.15\n",
      "1 grado K a F : -457.87\n",
      "1 grado K a K : 1\n"
     ]
    }
   ],
   "source": [
    "lista_unidades_temp = [\"C\", \"F\", \"K\"]\n",
    "for origen in lista_unidades_temp:\n",
    "    for destino in lista_unidades_temp:\n",
    "        print(\"1 grado\", origen, \"a\", destino, \":\", convertir_temp(1, origen, destino))\n"
   ]
  },
  {
   "attachments": {},
   "cell_type": "markdown",
   "metadata": {},
   "source": [
    "6) Armar una función que devuelva el factorial de un número. Tener en cuenta que el usuario puede equivocarse y enviar de parámetro un número no entero o negativo"
   ]
  },
  {
   "cell_type": "code",
   "execution_count": 2,
   "metadata": {},
   "outputs": [],
   "source": [
    "def factorial(numero):\n",
    "    if type(numero) != int:\n",
    "        return 'El número debe ser un entero'  # Si el número no es entero se avisa por mensaje.\n",
    "    \n",
    "    if numero < 0:\n",
    "        return 'El número debe ser positivo'  # Verifica si el número es negativo y devuelve un mensaje de error.\n",
    "    \n",
    "    if numero <= 1: # Primera opción: si el número es 0 o 1, el factorial es 1.\n",
    "        return 1\n",
    "    \n",
    "    numero = numero * factorial(numero - 1)  # Se calcula el factorial del número multiplicándolo por el factorial anterior.\n",
    "    \n",
    "    return numero"
   ]
  },
  {
   "cell_type": "code",
   "execution_count": 3,
   "metadata": {},
   "outputs": [
    {
     "name": "stdout",
     "output_type": "stream",
     "text": [
      "120\n",
      "1\n",
      "El número debe ser un entero\n",
      "El número debe ser un entero\n",
      "El número debe ser positivo\n"
     ]
    }
   ],
   "source": [
    "print(factorial(5))\n",
    "print(factorial(0))\n",
    "print(factorial('100'))\n",
    "print(factorial(2.20))\n",
    "print(factorial(-4))\n"
   ]
  }
 ],
 "metadata": {
  "interpreter": {
   "hash": "c85384e4cb51c8b72350f3a8712cc8351fdc3955e32a27f9b60c6242ab125f01"
  },
  "kernelspec": {
   "display_name": "Python 3 (ipykernel)",
   "language": "python",
   "name": "python3"
  },
  "language_info": {
   "codemirror_mode": {
    "name": "ipython",
    "version": 3
   },
   "file_extension": ".py",
   "mimetype": "text/x-python",
   "name": "python",
   "nbconvert_exporter": "python",
   "pygments_lexer": "ipython3",
   "version": "3.12.1"
  }
 },
 "nbformat": 4,
 "nbformat_minor": 4
}
