{
 "cells": [
  {
   "attachments": {},
   "cell_type": "markdown",
   "metadata": {},
   "source": [
    "## Estructuras de Datos"
   ]
  },
  {
   "attachments": {},
   "cell_type": "markdown",
   "metadata": {},
   "source": [
    "1) Crear una lista que contenga nombres de ciudades del mundo que contenga más de 5 elementos e imprimir por pantalla"
   ]
  },
  {
   "cell_type": "code",
   "execution_count": 2,
   "metadata": {},
   "outputs": [
    {
     "name": "stdout",
     "output_type": "stream",
     "text": [
      "['Río de Janeiro', 'Buenos Aires', 'Santiago de Chile', 'Montevideo', 'Asunción', 'La Paz']\n"
     ]
    }
   ],
   "source": [
    "Ciudades = [\"Río de Janeiro\", \"Buenos Aires\", \"Santiago de Chile\", \"Montevideo\", \"Asunción\", \"La Paz\"]\n",
    "print(Ciudades)"
   ]
  },
  {
   "attachments": {},
   "cell_type": "markdown",
   "metadata": {},
   "source": [
    "2) Imprimir por pantalla el segundo elemento de la lista"
   ]
  },
  {
   "cell_type": "code",
   "execution_count": 3,
   "metadata": {},
   "outputs": [
    {
     "name": "stdout",
     "output_type": "stream",
     "text": [
      "Buenos Aires\n"
     ]
    }
   ],
   "source": [
    "print(Ciudades[1]) # Se empieza a contar desde 0. 0 es Río de Janeiro."
   ]
  },
  {
   "attachments": {},
   "cell_type": "markdown",
   "metadata": {},
   "source": [
    "3) Imprimir por pantalla del segundo al cuarto elemento"
   ]
  },
  {
   "cell_type": "code",
   "execution_count": 4,
   "metadata": {},
   "outputs": [
    {
     "name": "stdout",
     "output_type": "stream",
     "text": [
      "['Buenos Aires', 'Santiago de Chile', 'Montevideo']\n"
     ]
    }
   ],
   "source": [
    "print(Ciudades[1:4])  #El último número del intervalo no entra. Por eso no aparece asunción."
   ]
  },
  {
   "attachments": {},
   "cell_type": "markdown",
   "metadata": {},
   "source": [
    "4) Visualizar el tipo de dato de la lista"
   ]
  },
  {
   "cell_type": "code",
   "execution_count": 5,
   "metadata": {},
   "outputs": [
    {
     "name": "stdout",
     "output_type": "stream",
     "text": [
      "<class 'list'>\n"
     ]
    }
   ],
   "source": [
    "print(type(Ciudades))"
   ]
  },
  {
   "attachments": {},
   "cell_type": "markdown",
   "metadata": {},
   "source": [
    "5) Visualizar todos los elementos de la lista a partir del tercero de manera genérica, es decir, sin explicitar la posición del último elemento"
   ]
  },
  {
   "cell_type": "code",
   "execution_count": 6,
   "metadata": {},
   "outputs": [
    {
     "name": "stdout",
     "output_type": "stream",
     "text": [
      "['Santiago de Chile', 'Montevideo', 'Asunción', 'La Paz']\n"
     ]
    }
   ],
   "source": [
    "print(Ciudades[2:])"
   ]
  },
  {
   "attachments": {},
   "cell_type": "markdown",
   "metadata": {},
   "source": [
    "6) Visualizar los primeros 4 elementos de la lista"
   ]
  },
  {
   "cell_type": "code",
   "execution_count": 7,
   "metadata": {},
   "outputs": [
    {
     "name": "stdout",
     "output_type": "stream",
     "text": [
      "['Río de Janeiro', 'Buenos Aires', 'Santiago de Chile', 'Montevideo']\n"
     ]
    }
   ],
   "source": [
    "print(Ciudades[:4])"
   ]
  },
  {
   "attachments": {},
   "cell_type": "markdown",
   "metadata": {},
   "source": [
    "7) Agregar una ciudad más a la lista que ya exista y otra que no ¿Arroja algún tipo de error?"
   ]
  },
  {
   "cell_type": "code",
   "execution_count": 8,
   "metadata": {},
   "outputs": [],
   "source": [
    "Ciudades.append(\"Buenos Aires\") #No arroja ningún error repetir un elemento en la lista. Lo agrega al final simplemente."
   ]
  },
  {
   "cell_type": "code",
   "execution_count": 9,
   "metadata": {},
   "outputs": [],
   "source": [
    "Ciudades.append(\"Bogotá\")"
   ]
  },
  {
   "cell_type": "code",
   "execution_count": 10,
   "metadata": {},
   "outputs": [
    {
     "name": "stdout",
     "output_type": "stream",
     "text": [
      "['Río de Janeiro', 'Buenos Aires', 'Santiago de Chile', 'Montevideo', 'Asunción', 'La Paz', 'Buenos Aires', 'Bogotá']\n"
     ]
    }
   ],
   "source": [
    "print(Ciudades)"
   ]
  },
  {
   "attachments": {},
   "cell_type": "markdown",
   "metadata": {},
   "source": [
    "8) Agregar otra ciudad, pero en la cuarta posición"
   ]
  },
  {
   "cell_type": "code",
   "execution_count": 11,
   "metadata": {},
   "outputs": [],
   "source": [
    "Ciudades.insert(3, \"Caracas\") #Ponemos el índice y luego el valor a agregar."
   ]
  },
  {
   "cell_type": "code",
   "execution_count": 12,
   "metadata": {},
   "outputs": [
    {
     "name": "stdout",
     "output_type": "stream",
     "text": [
      "['Río de Janeiro', 'Buenos Aires', 'Santiago de Chile', 'Caracas', 'Montevideo', 'Asunción', 'La Paz', 'Buenos Aires', 'Bogotá']\n"
     ]
    }
   ],
   "source": [
    "print(Ciudades)"
   ]
  },
  {
   "attachments": {},
   "cell_type": "markdown",
   "metadata": {},
   "source": [
    "9) Concatenar otra lista a la ya creada"
   ]
  },
  {
   "cell_type": "code",
   "execution_count": 13,
   "metadata": {},
   "outputs": [],
   "source": [
    "Ciudades.extend([\"San Pablo\", \"Rosario\", \"México DF\"])"
   ]
  },
  {
   "cell_type": "code",
   "execution_count": 14,
   "metadata": {},
   "outputs": [
    {
     "name": "stdout",
     "output_type": "stream",
     "text": [
      "['Río de Janeiro', 'Buenos Aires', 'Santiago de Chile', 'Caracas', 'Montevideo', 'Asunción', 'La Paz', 'Buenos Aires', 'Bogotá', 'San Pablo', 'Rosario', 'México DF']\n"
     ]
    }
   ],
   "source": [
    "print(Ciudades)"
   ]
  },
  {
   "attachments": {},
   "cell_type": "markdown",
   "metadata": {},
   "source": [
    "10) Encontrar el índice de la ciudad que en el punto 7 agregamos duplicada. ¿Se nota alguna particularidad?"
   ]
  },
  {
   "cell_type": "code",
   "execution_count": 15,
   "metadata": {},
   "outputs": [
    {
     "data": {
      "text/plain": [
       "1"
      ]
     },
     "execution_count": 15,
     "metadata": {},
     "output_type": "execute_result"
    }
   ],
   "source": [
    "Ciudades.index(\"Buenos Aires\") # Muestra sólo el índide de la primera vez que aparece en la lista."
   ]
  },
  {
   "attachments": {},
   "cell_type": "markdown",
   "metadata": {},
   "source": [
    "11) ¿Qué pasa si se busca un elemento que no existe?"
   ]
  },
  {
   "cell_type": "code",
   "execution_count": 16,
   "metadata": {},
   "outputs": [
    {
     "ename": "ValueError",
     "evalue": "'Paris' is not in list",
     "output_type": "error",
     "traceback": [
      "\u001b[1;31m---------------------------------------------------------------------------\u001b[0m",
      "\u001b[1;31mValueError\u001b[0m                                Traceback (most recent call last)",
      "Cell \u001b[1;32mIn[16], line 1\u001b[0m\n\u001b[1;32m----> 1\u001b[0m \u001b[43mCiudades\u001b[49m\u001b[38;5;241;43m.\u001b[39;49m\u001b[43mindex\u001b[49m\u001b[43m(\u001b[49m\u001b[38;5;124;43m\"\u001b[39;49m\u001b[38;5;124;43mParis\u001b[39;49m\u001b[38;5;124;43m\"\u001b[39;49m\u001b[43m)\u001b[49m \u001b[38;5;66;03m# Muestra un error al buscar un elemento que no está en la lista.\u001b[39;00m\n",
      "\u001b[1;31mValueError\u001b[0m: 'Paris' is not in list"
     ]
    }
   ],
   "source": [
    "Ciudades.index(\"Paris\") # Muestra un error al buscar un elemento que no está en la lista."
   ]
  },
  {
   "attachments": {},
   "cell_type": "markdown",
   "metadata": {},
   "source": [
    "12) Eliminar un elemento de la lista"
   ]
  },
  {
   "cell_type": "code",
   "execution_count": null,
   "metadata": {},
   "outputs": [],
   "source": [
    "Ciudades.remove(\"Rosario\")"
   ]
  },
  {
   "cell_type": "code",
   "execution_count": null,
   "metadata": {},
   "outputs": [
    {
     "name": "stdout",
     "output_type": "stream",
     "text": [
      "['Río de Janeiro', 'Buenos Aires', 'Santiago de Chile', 'Caracas', 'Montevideo', 'Asunción', 'La Paz', 'Buenos Aires', 'Bogotá', 'San Pablo', 'México DF']\n"
     ]
    }
   ],
   "source": [
    "print(Ciudades)"
   ]
  },
  {
   "attachments": {},
   "cell_type": "markdown",
   "metadata": {},
   "source": [
    "13) ¿Qué pasa si el elemento a eliminar no existe?"
   ]
  },
  {
   "cell_type": "code",
   "execution_count": null,
   "metadata": {},
   "outputs": [
    {
     "ename": "ValueError",
     "evalue": "list.remove(x): x not in list",
     "output_type": "error",
     "traceback": [
      "\u001b[1;31m---------------------------------------------------------------------------\u001b[0m",
      "\u001b[1;31mValueError\u001b[0m                                Traceback (most recent call last)",
      "Cell \u001b[1;32mIn[39], line 1\u001b[0m\n\u001b[1;32m----> 1\u001b[0m \u001b[43mCiudades\u001b[49m\u001b[38;5;241;43m.\u001b[39;49m\u001b[43mremove\u001b[49m\u001b[43m(\u001b[49m\u001b[38;5;124;43m\"\u001b[39;49m\u001b[38;5;124;43mParis\u001b[39;49m\u001b[38;5;124;43m\"\u001b[39;49m\u001b[43m)\u001b[49m\n",
      "\u001b[1;31mValueError\u001b[0m: list.remove(x): x not in list"
     ]
    }
   ],
   "source": [
    "Ciudades.remove(\"Paris\") # Eliminar un elemento que no está en lista causa un error. "
   ]
  },
  {
   "attachments": {},
   "cell_type": "markdown",
   "metadata": {},
   "source": [
    "14) Extraer el úlimo elemento de la lista, guardarlo en una variable e imprimirlo"
   ]
  },
  {
   "cell_type": "code",
   "execution_count": null,
   "metadata": {},
   "outputs": [
    {
     "name": "stdout",
     "output_type": "stream",
     "text": [
      "México DF\n"
     ]
    }
   ],
   "source": [
    "# Ciudades.pop() Esto borra definitivamente de nuestra lista el último elemento.\n",
    "ultimo = Ciudades.pop()  # Puedo poner el índice entre paréntesis para guardar otro elemento que no sea el último.\n",
    "print(ultimo)"
   ]
  },
  {
   "attachments": {},
   "cell_type": "markdown",
   "metadata": {},
   "source": [
    "15) Mostrar la lista multiplicada por 4"
   ]
  },
  {
   "cell_type": "code",
   "execution_count": null,
   "metadata": {},
   "outputs": [
    {
     "name": "stdout",
     "output_type": "stream",
     "text": [
      "['Río de Janeiro', 'Buenos Aires', 'Santiago de Chile', 'Caracas', 'Montevideo', 'Asunción', 'La Paz', 'Buenos Aires', 'Bogotá', 'San Pablo', 'Río de Janeiro', 'Buenos Aires', 'Santiago de Chile', 'Caracas', 'Montevideo', 'Asunción', 'La Paz', 'Buenos Aires', 'Bogotá', 'San Pablo', 'Río de Janeiro', 'Buenos Aires', 'Santiago de Chile', 'Caracas', 'Montevideo', 'Asunción', 'La Paz', 'Buenos Aires', 'Bogotá', 'San Pablo', 'Río de Janeiro', 'Buenos Aires', 'Santiago de Chile', 'Caracas', 'Montevideo', 'Asunción', 'La Paz', 'Buenos Aires', 'Bogotá', 'San Pablo']\n"
     ]
    }
   ],
   "source": [
    "print(Ciudades * 4)"
   ]
  },
  {
   "cell_type": "markdown",
   "metadata": {},
   "source": [
    "15.A Crear y ordenar una lista"
   ]
  },
  {
   "cell_type": "code",
   "execution_count": null,
   "metadata": {},
   "outputs": [],
   "source": [
    "lista = [22,55, 27, 4, 16, 99]"
   ]
  },
  {
   "cell_type": "code",
   "execution_count": null,
   "metadata": {},
   "outputs": [],
   "source": [
    "lista.sort() # Ordena la lista de menor a mayor."
   ]
  },
  {
   "cell_type": "code",
   "execution_count": null,
   "metadata": {},
   "outputs": [
    {
     "name": "stdout",
     "output_type": "stream",
     "text": [
      "[4, 16, 22, 27, 55, 99]\n"
     ]
    }
   ],
   "source": [
    "print(lista)"
   ]
  },
  {
   "cell_type": "code",
   "execution_count": null,
   "metadata": {},
   "outputs": [],
   "source": [
    "Ciudades.sort() # Ordenas las cadena alfabeticamente."
   ]
  },
  {
   "cell_type": "code",
   "execution_count": null,
   "metadata": {},
   "outputs": [
    {
     "name": "stdout",
     "output_type": "stream",
     "text": [
      "['Asunción', 'Bogotá', 'Buenos Aires', 'Buenos Aires', 'Caracas', 'La Paz', 'Montevideo', 'Río de Janeiro', 'San Pablo', 'Santiago de Chile']\n"
     ]
    }
   ],
   "source": [
    "print(Ciudades)"
   ]
  },
  {
   "cell_type": "code",
   "execution_count": null,
   "metadata": {},
   "outputs": [
    {
     "name": "stdout",
     "output_type": "stream",
     "text": [
      "[9, 8, 7, 6, 4, 3, 1]\n"
     ]
    }
   ],
   "source": [
    "lista2 = [1,9,4,7,3,6,8]\n",
    "lista2.sort(reverse=True) # Para ordenar de mayor a menor.\n",
    "print(lista2)"
   ]
  },
  {
   "attachments": {},
   "cell_type": "markdown",
   "metadata": {},
   "source": [
    "16) Crear una tupla que contenga los números enteros del 1 al 20"
   ]
  },
  {
   "cell_type": "code",
   "execution_count": null,
   "metadata": {},
   "outputs": [
    {
     "name": "stdout",
     "output_type": "stream",
     "text": [
      "<class 'tuple'>\n",
      "(1, 2, 3, 4, 5, 6, 7, 8, 9, 10, 11, 12, 13, 14, 15, 16, 17, 18, 19, 20)\n"
     ]
    }
   ],
   "source": [
    "tupla = (1,2,3,4,5,6,7,8,9,10,11,12,13,14,15,16,17,18,19,20)\n",
    "print(type(tupla))\n",
    "print(tupla)\n"
   ]
  },
  {
   "cell_type": "markdown",
   "metadata": {},
   "source": [
    "16.A Crear una tupla de un solo elemento"
   ]
  },
  {
   "cell_type": "code",
   "execution_count": null,
   "metadata": {},
   "outputs": [
    {
     "name": "stdout",
     "output_type": "stream",
     "text": [
      "<class 'tuple'>\n",
      "(100,)\n"
     ]
    }
   ],
   "source": [
    "tupla2 = (100, )    # Si no agregamos la coma al final, Python considera que es un entero.\n",
    "print(type(tupla2))\n",
    "print(tupla2)"
   ]
  },
  {
   "attachments": {},
   "cell_type": "markdown",
   "metadata": {},
   "source": [
    "17) Imprimir desde el índice 10 al 15 de la tupla"
   ]
  },
  {
   "cell_type": "code",
   "execution_count": null,
   "metadata": {},
   "outputs": [
    {
     "name": "stdout",
     "output_type": "stream",
     "text": [
      "(11, 12, 13, 14, 15, 16)\n"
     ]
    }
   ],
   "source": [
    "print(tupla[10:16])"
   ]
  },
  {
   "attachments": {},
   "cell_type": "markdown",
   "metadata": {},
   "source": [
    "18) Evaluar si los números 20 y 30 están dentro de la tupla"
   ]
  },
  {
   "cell_type": "code",
   "execution_count": null,
   "metadata": {},
   "outputs": [
    {
     "name": "stdout",
     "output_type": "stream",
     "text": [
      "True\n",
      "False\n"
     ]
    }
   ],
   "source": [
    "print(20 in tupla)\n",
    "print (30 in tupla)"
   ]
  },
  {
   "attachments": {},
   "cell_type": "markdown",
   "metadata": {},
   "source": [
    "19) Con la lista creada en el punto 1, validar la existencia del elemento 'París' y si no existe, agregarlo. Utilizar una variable e informar lo sucedido."
   ]
  },
  {
   "cell_type": "code",
   "execution_count": null,
   "metadata": {},
   "outputs": [
    {
     "name": "stdout",
     "output_type": "stream",
     "text": [
      "Se agregó el elemento París\n"
     ]
    }
   ],
   "source": [
    "nueva_ciudad = 'París'\n",
    "if (not(nueva_ciudad in Ciudades)):\n",
    "    Ciudades.append(nueva_ciudad)\n",
    "    print('Se agregó el elemento', nueva_ciudad)\n",
    "else:\n",
    "    print('El elemento', nueva_ciudad, 'ya existía')"
   ]
  },
  {
   "attachments": {},
   "cell_type": "markdown",
   "metadata": {},
   "source": [
    "20) Mostrar la cantidad de veces que se encuentra un elemento específico dentro de la tupla y de la lista"
   ]
  },
  {
   "cell_type": "code",
   "execution_count": null,
   "metadata": {},
   "outputs": [
    {
     "name": "stdout",
     "output_type": "stream",
     "text": [
      "1\n",
      "2\n",
      "['Río de Janeiro', 'Buenos Aires', 'Santiago de Chile', 'Caracas', 'Montevideo', 'Asunción', 'La Paz', 'Buenos Aires', 'Bogotá', 'San Pablo', 'Rosario', 'México DF']\n"
     ]
    }
   ],
   "source": [
    "print(tupla.count(20))\n",
    "print(Ciudades.count(\"Buenos Aires\"))\n",
    "print(Ciudades)"
   ]
  },
  {
   "attachments": {},
   "cell_type": "markdown",
   "metadata": {},
   "source": [
    "21) Convertir la tupla en una lista"
   ]
  },
  {
   "cell_type": "code",
   "execution_count": null,
   "metadata": {},
   "outputs": [
    {
     "name": "stdout",
     "output_type": "stream",
     "text": [
      "[1, 2, 3, 4, 5, 6, 7, 8, 9, 10, 11, 12, 13, 14, 15, 16, 17, 18, 19, 20]\n"
     ]
    }
   ],
   "source": [
    "lista_numeros = list(tupla)\n",
    "print(lista_numeros)"
   ]
  },
  {
   "attachments": {},
   "cell_type": "markdown",
   "metadata": {},
   "source": [
    "22) Desempaquetar solo los primeros 3 elementos de la tupla en 3 variables"
   ]
  },
  {
   "cell_type": "code",
   "execution_count": null,
   "metadata": {},
   "outputs": [
    {
     "name": "stdout",
     "output_type": "stream",
     "text": [
      "(1, 2, 3, 4, 5, 6, 7, 8, 9, 10, 11, 12, 13, 14, 15, 16, 17, 18, 19, 20)\n",
      "1 2 3\n"
     ]
    }
   ],
   "source": [
    "print(tupla)\n",
    "v1, v2, v3, _, _, _, _, _, _, _, _, _, _, _, _, _, _, _, _, _ = tupla\n",
    "print(v1,v2,v3)"
   ]
  },
  {
   "attachments": {},
   "cell_type": "markdown",
   "metadata": {},
   "source": [
    "23) Crear un diccionario utilizando la lista crada en el punto 1, asignandole la clave \"ciudad\". Agregar tambien otras claves, como puede ser \"Pais\" y \"Continente\"."
   ]
  },
  {
   "cell_type": "code",
   "execution_count": 24,
   "metadata": {},
   "outputs": [],
   "source": [
    "dicc = {\"Ciudad\": Ciudades,\n",
    "\"Pais\" : [\"Brasil\", \"Argentina\", \"Chile\", \"Venezuela\", \"Uruguay\", \"Paraguay\", \"Bolivia\", \"Argentina\", \"Colombia\", \"Brasil\" \"Argentina\" \"México\"],\n",
    "\"Continente\" : [\"América\", \"América\", \"América\", \"América\", \"América\", \"América\", \"América\", \"América\",\"América\",\"América\",\"América\",\"América\"] \n",
    " }"
   ]
  },
  {
   "cell_type": "code",
   "execution_count": 25,
   "metadata": {},
   "outputs": [
    {
     "name": "stdout",
     "output_type": "stream",
     "text": [
      "{'Ciudad': ['Río de Janeiro', 'Buenos Aires', 'Santiago de Chile', 'Caracas', 'Montevideo', 'Asunción', 'La Paz', 'Buenos Aires', 'Bogotá', 'San Pablo', 'Rosario', 'México DF'], 'Pais': ['Brasil', 'Argentina', 'Chile', 'Venezuela', 'Uruguay', 'Paraguay', 'Bolivia', 'Argentina', 'Colombia', 'BrasilArgentinaMéxico'], 'Continente': ['América', 'América', 'América', 'América', 'América', 'América', 'América', 'América', 'América', 'América', 'América', 'América']}\n"
     ]
    }
   ],
   "source": [
    "print(dicc)"
   ]
  },
  {
   "attachments": {},
   "cell_type": "markdown",
   "metadata": {},
   "source": [
    "24) Imprimir las claves del diccionario"
   ]
  },
  {
   "cell_type": "code",
   "execution_count": 26,
   "metadata": {},
   "outputs": [
    {
     "name": "stdout",
     "output_type": "stream",
     "text": [
      "dict_keys(['Ciudad', 'Pais', 'Continente'])\n"
     ]
    }
   ],
   "source": [
    "print(dicc.keys())"
   ]
  },
  {
   "attachments": {},
   "cell_type": "markdown",
   "metadata": {},
   "source": [
    "25) Imprimir las ciudades a través de su clave"
   ]
  },
  {
   "cell_type": "code",
   "execution_count": 27,
   "metadata": {},
   "outputs": [
    {
     "name": "stdout",
     "output_type": "stream",
     "text": [
      "['Río de Janeiro', 'Buenos Aires', 'Santiago de Chile', 'Caracas', 'Montevideo', 'Asunción', 'La Paz', 'Buenos Aires', 'Bogotá', 'San Pablo', 'Rosario', 'México DF']\n"
     ]
    }
   ],
   "source": [
    "print(dicc['Ciudad'])"
   ]
  }
 ],
 "metadata": {
  "interpreter": {
   "hash": "c85384e4cb51c8b72350f3a8712cc8351fdc3955e32a27f9b60c6242ab125f01"
  },
  "kernelspec": {
   "display_name": "Python 3 (ipykernel)",
   "language": "python",
   "name": "python3"
  },
  "language_info": {
   "codemirror_mode": {
    "name": "ipython",
    "version": 3
   },
   "file_extension": ".py",
   "mimetype": "text/x-python",
   "name": "python",
   "nbconvert_exporter": "python",
   "pygments_lexer": "ipython3",
   "version": "3.12.1"
  }
 },
 "nbformat": 4,
 "nbformat_minor": 4
}
